{
  "cells": [
    {
      "cell_type": "code",
      "execution_count": null,
      "metadata": {
        "execution": {
          "iopub.execute_input": "2024-07-11T10:42:43.137373Z",
          "iopub.status.busy": "2024-07-11T10:42:43.137039Z",
          "iopub.status.idle": "2024-07-11T10:42:43.14319Z",
          "shell.execute_reply": "2024-07-11T10:42:43.14214Z",
          "shell.execute_reply.started": "2024-07-11T10:42:43.137346Z"
        },
        "id": "CfjM-rcecy7u",
        "outputId": "98fdd3a6-8e3d-4e01-ba1a-edb38d08b84e",
        "trusted": true
      },
      "outputs": [
        {
          "name": "stdout",
          "output_type": "stream",
          "text": [
            "[0 1 2 3 4 5 6 7 8 9]\n"
          ]
        }
      ],
      "source": [
        "# Câu 1: Câu nào sau đây là đúng để tạo mảng 1 chiều từ 0 đến 9\n",
        "import numpy as np\n",
        "\n",
        "arr = np.arange(0, 10, 1)\n",
        "print(arr)"
      ]
    },
    {
      "cell_type": "code",
      "execution_count": null,
      "metadata": {
        "execution": {
          "iopub.execute_input": "2024-07-11T10:44:45.793142Z",
          "iopub.status.busy": "2024-07-11T10:44:45.792193Z",
          "iopub.status.idle": "2024-07-11T10:44:45.798151Z",
          "shell.execute_reply": "2024-07-11T10:44:45.796947Z",
          "shell.execute_reply.started": "2024-07-11T10:44:45.793107Z"
        },
        "id": "XCliA046cy7v",
        "outputId": "159a4821-80d5-4a95-eb80-f17f3934fbbb",
        "trusted": true
      },
      "outputs": [
        {
          "name": "stdout",
          "output_type": "stream",
          "text": [
            "[[ True  True  True]\n",
            " [ True  True  True]\n",
            " [ True  True  True]]\n"
          ]
        }
      ],
      "source": [
        "# Câu 2: Cách tạo một mảng boolean 3x3 với tất cả giá trị là True\n",
        "\n",
        "arr = np.full((3,3), fill_value=True, dtype=bool)\n",
        "print(arr)"
      ]
    },
    {
      "cell_type": "code",
      "execution_count": null,
      "metadata": {
        "execution": {
          "iopub.execute_input": "2024-07-11T10:45:45.142617Z",
          "iopub.status.busy": "2024-07-11T10:45:45.141688Z",
          "iopub.status.idle": "2024-07-11T10:45:45.150481Z",
          "shell.execute_reply": "2024-07-11T10:45:45.149374Z",
          "shell.execute_reply.started": "2024-07-11T10:45:45.142581Z"
        },
        "id": "Eevgw1Tpcy7w",
        "outputId": "4b5b4b7f-346d-4fb8-a942-cfcd2591e1c7",
        "trusted": true
      },
      "outputs": [
        {
          "name": "stdout",
          "output_type": "stream",
          "text": [
            "[1 3 5 7 9]\n"
          ]
        }
      ],
      "source": [
        "# Câu 3: Kết quả của đoạn code sau đây:\n",
        "\n",
        "import numpy as np\n",
        "\n",
        "arr = np.arange(0,10)\n",
        "print(arr[arr%2==1])"
      ]
    },
    {
      "cell_type": "code",
      "execution_count": null,
      "metadata": {
        "execution": {
          "iopub.execute_input": "2024-07-11T10:47:08.033886Z",
          "iopub.status.busy": "2024-07-11T10:47:08.033487Z",
          "iopub.status.idle": "2024-07-11T10:47:08.039865Z",
          "shell.execute_reply": "2024-07-11T10:47:08.038906Z",
          "shell.execute_reply.started": "2024-07-11T10:47:08.033846Z"
        },
        "id": "HrQ6KsdXcy7w",
        "outputId": "9f543d4c-b1d2-400d-a1cf-a4e5b9624215",
        "trusted": true
      },
      "outputs": [
        {
          "name": "stdout",
          "output_type": "stream",
          "text": [
            "[ 0 -1  2 -1  4 -1  6 -1  8 -1]\n"
          ]
        }
      ],
      "source": [
        "# Câu 4: Kết quả của đoạn code sau đây:\n",
        "\n",
        "arr = np.arange(0,10)\n",
        "arr[arr%2==1] = -1\n",
        "print(arr)"
      ]
    },
    {
      "cell_type": "code",
      "execution_count": null,
      "metadata": {
        "execution": {
          "iopub.execute_input": "2024-07-11T10:49:40.280397Z",
          "iopub.status.busy": "2024-07-11T10:49:40.279621Z",
          "iopub.status.idle": "2024-07-11T10:49:40.285146Z",
          "shell.execute_reply": "2024-07-11T10:49:40.284268Z",
          "shell.execute_reply.started": "2024-07-11T10:49:40.280369Z"
        },
        "id": "ahKSxj4Tcy7w",
        "outputId": "843c943d-837b-4f61-d643-863ced179af2",
        "trusted": true
      },
      "outputs": [
        {
          "name": "stdout",
          "output_type": "stream",
          "text": [
            "[[0 1 2 3 4]\n",
            " [5 6 7 8 9]]\n"
          ]
        }
      ],
      "source": [
        "# Câu 5: Kết quả của đoạn code sau đây:\n",
        "\n",
        "arr = np.arange(10)\n",
        "arr_2d = arr.reshape(2, -1)\n",
        "print(arr_2d)"
      ]
    },
    {
      "cell_type": "code",
      "execution_count": null,
      "metadata": {
        "execution": {
          "iopub.execute_input": "2024-07-11T10:50:52.769335Z",
          "iopub.status.busy": "2024-07-11T10:50:52.768985Z",
          "iopub.status.idle": "2024-07-11T10:50:52.775671Z",
          "shell.execute_reply": "2024-07-11T10:50:52.774718Z",
          "shell.execute_reply.started": "2024-07-11T10:50:52.769306Z"
        },
        "id": "8lEa6Q1Jcy7x",
        "outputId": "b89077f0-2dd3-4c2e-aa6e-9d94a34614d6",
        "trusted": true
      },
      "outputs": [
        {
          "name": "stdout",
          "output_type": "stream",
          "text": [
            "[[0 1 2 3 4]\n",
            " [5 6 7 8 9]\n",
            " [1 1 1 1 1]\n",
            " [1 1 1 1 1]]\n"
          ]
        }
      ],
      "source": [
        "# Câu 6: Kết quả của đoạn code sau đây:\n",
        "\n",
        "arr1 = np.arange(10).reshape(2, -1)\n",
        "arr2 = np.repeat(1, 10).reshape(2, -1)\n",
        "c = np.concatenate([arr1, arr2], axis=0)\n",
        "print(c)"
      ]
    },
    {
      "cell_type": "code",
      "execution_count": null,
      "metadata": {
        "execution": {
          "iopub.execute_input": "2024-07-11T10:52:10.292786Z",
          "iopub.status.busy": "2024-07-11T10:52:10.291959Z",
          "iopub.status.idle": "2024-07-11T10:52:10.29904Z",
          "shell.execute_reply": "2024-07-11T10:52:10.298112Z",
          "shell.execute_reply.started": "2024-07-11T10:52:10.292749Z"
        },
        "id": "IChlMX1Acy7x",
        "outputId": "a35cf0b0-adef-4c1f-e7f0-5223f37e651d",
        "trusted": true
      },
      "outputs": [
        {
          "name": "stdout",
          "output_type": "stream",
          "text": [
            "[[0 1 2 3 4 1 1 1 1 1]\n",
            " [5 6 7 8 9 1 1 1 1 1]]\n"
          ]
        }
      ],
      "source": [
        "# Câu 7: Kết quả của đoạn code sau đây:\n",
        "\n",
        "arr1 = np.arange(10).reshape(2, -1)\n",
        "arr2 = np.repeat(1, 10).reshape(2, -1)\n",
        "c = np.concatenate([arr1, arr2], axis=1)\n",
        "print(c)"
      ]
    },
    {
      "cell_type": "code",
      "execution_count": null,
      "metadata": {
        "execution": {
          "iopub.execute_input": "2024-07-11T10:53:01.271229Z",
          "iopub.status.busy": "2024-07-11T10:53:01.270856Z",
          "iopub.status.idle": "2024-07-11T10:53:01.277103Z",
          "shell.execute_reply": "2024-07-11T10:53:01.276063Z",
          "shell.execute_reply.started": "2024-07-11T10:53:01.2712Z"
        },
        "id": "pZ-xfakicy7x",
        "outputId": "6f9ef8be-1b2b-40f7-e1e8-ffbda0971fa8",
        "trusted": true
      },
      "outputs": [
        {
          "name": "stdout",
          "output_type": "stream",
          "text": [
            "[1 1 1 2 2 2 3 3 3]\n",
            "[1 2 3 1 2 3 1 2 3]\n"
          ]
        }
      ],
      "source": [
        "# Câu 8: Kết quả của đoạn code sau đây:\n",
        "\n",
        "arr=np.array([1, 2, 3])\n",
        "print(np.repeat(arr, 3))\n",
        "print(np.tile(arr, 3))"
      ]
    },
    {
      "cell_type": "code",
      "execution_count": null,
      "metadata": {
        "execution": {
          "iopub.execute_input": "2024-07-11T10:54:28.58318Z",
          "iopub.status.busy": "2024-07-11T10:54:28.582826Z",
          "iopub.status.idle": "2024-07-11T10:54:28.58964Z",
          "shell.execute_reply": "2024-07-11T10:54:28.588427Z",
          "shell.execute_reply.started": "2024-07-11T10:54:28.58315Z"
        },
        "id": "1l-hJNuBcy7x",
        "outputId": "9f27834a-eba3-401c-d858-6e95fa91d181",
        "trusted": true
      },
      "outputs": [
        {
          "name": "stdout",
          "output_type": "stream",
          "text": [
            "[ 6  9 10]\n"
          ]
        }
      ],
      "source": [
        "# Câu 9: Kết quả của đoạn code sau đây:\n",
        "\n",
        "a = np.array([2, 6, 1, 9, 10, 3, 27])\n",
        "idx = np.where((a>=5)&(a<=10))\n",
        "print(a[idx])"
      ]
    },
    {
      "cell_type": "code",
      "execution_count": null,
      "metadata": {
        "execution": {
          "iopub.execute_input": "2024-07-11T10:57:17.300169Z",
          "iopub.status.busy": "2024-07-11T10:57:17.299799Z",
          "iopub.status.idle": "2024-07-11T10:57:17.307049Z",
          "shell.execute_reply": "2024-07-11T10:57:17.305982Z",
          "shell.execute_reply.started": "2024-07-11T10:57:17.30014Z"
        },
        "id": "w_QdyoOXcy7y",
        "outputId": "5feae360-b6f2-4aa0-ec55-9bc97c6fbddb",
        "trusted": true
      },
      "outputs": [
        {
          "name": "stdout",
          "output_type": "stream",
          "text": [
            "[6. 7. 9. 8. 9. 7. 5.]\n"
          ]
        }
      ],
      "source": [
        "# Câu 10: Kết quả của đoạn code sau đây:\n",
        "\n",
        "def max(x, y):\n",
        "    if x >= y:\n",
        "        return x\n",
        "    else:\n",
        "        return y\n",
        "\n",
        "a = np.array([5 ,7 ,9 ,8 ,6 ,4 ,5])\n",
        "b = np.array([6 ,3 ,4 ,8 ,9 ,7 ,1])\n",
        "\n",
        "pair_max = np.vectorize(max, otypes=[float])\n",
        "print(pair_max(a, b))"
      ]
    },
    {
      "cell_type": "code",
      "execution_count": null,
      "metadata": {
        "execution": {
          "iopub.execute_input": "2024-07-11T10:58:29.598568Z",
          "iopub.status.busy": "2024-07-11T10:58:29.598183Z",
          "iopub.status.idle": "2024-07-11T10:58:29.605435Z",
          "shell.execute_reply": "2024-07-11T10:58:29.604478Z",
          "shell.execute_reply.started": "2024-07-11T10:58:29.598539Z"
        },
        "id": "_cJMksNJcy7y",
        "outputId": "f47beeb3-9a5f-47c3-8dd8-e51fe2879ca6",
        "trusted": true
      },
      "outputs": [
        {
          "name": "stdout",
          "output_type": "stream",
          "text": [
            "[6 7 9 8 9 7 5]\n"
          ]
        }
      ],
      "source": [
        "# Câu 11: Kết quả của đoạn code sau đây:\n",
        "\n",
        "a = np.array([5, 7, 9, 8, 6, 4, 5])\n",
        "b = np.array([6 ,3 ,4 ,8 ,9 ,7 ,1])\n",
        "\n",
        "print(np.where(a<b, b, a))"
      ]
    },
    {
      "cell_type": "markdown",
      "metadata": {
        "id": "rFYFr6aXYn4Q"
      },
      "source": [
        "## Bài tập 2: Xử lý ảnh\n",
        "Các câu hỏi phần này giải quyết bài toán chuyển ảnh màu về ảnh xám.\n",
        "Ảnh sẽ được biểu diễn bởi tập các điểm ảnh (Pixel) có giá trị từ 0 đến 255. Ảnh màu sẽ được biểu\n",
        "diễn thành ma trận có kích thước (Height, Width, Channel); trong đó số Channel là 3 tương ứng là giá\n",
        "trị biểu diễn cho các kênh màu R-Red, G-Green, B-Blue. Ảnh xám sẽ được biểu diễn thành ma trận\n",
        "có kích thước (Height, Width). Vì vậy, để chuyển ảnh màu thành ảnh xám, chúng ta sẽ tổng hợp từ 3\n",
        "kênh màu RGB thành 1 giá trị duy nhất trong khoảng 0 đến 255. Có 3 phương pháp chính để tính giá\n",
        "trị chuyển đổi:\n",
        "* Lightness: Tính giá trị trung bình của giá trị lớn nhất và nhỏ nhất cho các kênh màu: (max(R,G,B)\n",
        "+ min(R,G,B))/2\n",
        "* Average: Tính giá trị trung bình của 3 kênh màu: (R+G+B)/3\n",
        "* Luminosity: Nhân hệ số tương ứng của 3 kênh màu như sau: 0.21*R + 0.72*G + 0.07*B"
      ]
    },
    {
      "cell_type": "code",
      "execution_count": null,
      "metadata": {
        "colab": {
          "base_uri": "https://localhost:8080/"
        },
        "id": "qQtXQKXWcy7y",
        "outputId": "0553e2ce-69d2-4ce8-ce94-56a7d498392d"
      },
      "outputs": [
        {
          "name": "stdout",
          "output_type": "stream",
          "text": [
            "Downloading...\n",
            "From: https://drive.google.com/uc?id=1i9dqan21DjQoG5Q_VEvm0LrVwAlXD0vB\n",
            "To: /content/dog.jpeg\n",
            "\r  0% 0.00/33.7k [00:00<?, ?B/s]\r100% 33.7k/33.7k [00:00<00:00, 63.7MB/s]\n"
          ]
        }
      ],
      "source": [
        "!gdown 1i9dqan21DjQoG5Q_VEvm0LrVwAlXD0vB"
      ]
    },
    {
      "cell_type": "code",
      "execution_count": null,
      "metadata": {
        "colab": {
          "base_uri": "https://localhost:8080/"
        },
        "id": "jGLtkoknc90f",
        "outputId": "e811f3ae-1b1f-4338-de35-c9dc640d90c3"
      },
      "outputs": [
        {
          "data": {
            "text/plain": [
              "102.5"
            ]
          },
          "execution_count": 6,
          "metadata": {},
          "output_type": "execute_result"
        }
      ],
      "source": [
        "# Câu 12: Hoàn thành đoạn code sau đây để chuyển ảnh màu sang ảnh xám dựa vào\n",
        "# phương pháp Lightness:\n",
        "\n",
        "import matplotlib.image as mpimg\n",
        "\n",
        "img = mpimg.imread('/content/dog.jpeg')\n",
        "gray_img_01 = (img.max(axis=-1) + img.min(axis=-1))/2\n",
        "gray_img_01[0, 0]"
      ]
    },
    {
      "cell_type": "code",
      "execution_count": null,
      "metadata": {
        "colab": {
          "base_uri": "https://localhost:8080/"
        },
        "id": "aNv5ffWzdx28",
        "outputId": "fbb294de-9498-445a-861d-c27d88c3c71a"
      },
      "outputs": [
        {
          "data": {
            "text/plain": [
              "107.66666666666667"
            ]
          },
          "execution_count": 7,
          "metadata": {},
          "output_type": "execute_result"
        }
      ],
      "source": [
        "# Câu 13: Hoàn thành đoạn code sau đây để chuyển ảnh màu sang ảnh xám dựa vào\n",
        "# phương pháp Average:\n",
        "\n",
        "gray_img_02 = img.mean(axis=-1)\n",
        "gray_img_02[0, 0]"
      ]
    },
    {
      "cell_type": "code",
      "execution_count": null,
      "metadata": {
        "colab": {
          "base_uri": "https://localhost:8080/"
        },
        "id": "CjV9PEVyfLT7",
        "outputId": "92a3f435-9b6c-4442-9a8c-2510d9ff93bb"
      },
      "outputs": [
        {
          "data": {
            "text/plain": [
              "126.22999999999999"
            ]
          },
          "execution_count": 8,
          "metadata": {},
          "output_type": "execute_result"
        }
      ],
      "source": [
        "# Câu 14: Hoàn thành đoạn code sau đây để chuyển ảnh màu sang ảnh xám dựa vào\n",
        "# phương pháp Luminosity:\n",
        "\n",
        "gray_img_03 = 0.21*img[:,:,0] + 0.72*img[:,:,1] + 0.07*img[:,:,2]\n",
        "gray_img_03[0, 0]"
      ]
    },
    {
      "cell_type": "markdown",
      "metadata": {
        "id": "Icb8i74SZOoO"
      },
      "source": [
        "## Bài tập 3: Phân tích dữ liệu dạng bảng\n",
        "Các câu hỏi phần này ứng dụng numpy trong phân tích dữ liệu dạng bảng, được mô tả gồm các cột và\n",
        "một số hàng như sau:\n",
        "\n",
        "|    |   TV  |   Radio |   Newspaper |   Sales |\n",
        "|----|-------|---------|-------------|---------|\n",
        "|  0 | 230.1 |    37.8 |        69.2 |    22.1 |\n",
        "|  1 |  44.5 |    39.3 |        45.1 |    10.4 |\n",
        "|  2 |  17.2 |    45.9 |        69.3 |    12.0 |\n",
        "|  3 | 151.5 |    41.3 |        58.5 |    16.5 |\n",
        "|  4 | 180.8 |    10.8 |        58.4 |    17.9 |\n",
        "\n",
        "Dựa vào đoạn code sau để tải về dữ liệu và thực hiện các đoạn code cho các các câu hỏi sau để chọn\n",
        "đáp án đúng:"
      ]
    },
    {
      "cell_type": "code",
      "execution_count": null,
      "metadata": {
        "colab": {
          "base_uri": "https://localhost:8080/"
        },
        "id": "LKGLP-mxf_1e",
        "outputId": "944f0c8b-650c-4b24-fcf7-aab32a637eff"
      },
      "outputs": [
        {
          "name": "stdout",
          "output_type": "stream",
          "text": [
            "Downloading...\n",
            "From: https://drive.google.com/uc?id=1iA0WmVfW88HyJvTBSQDI5vesf-pgKabq\n",
            "To: /content/advertising.csv\n",
            "\r  0% 0.00/4.06k [00:00<?, ?B/s]\r100% 4.06k/4.06k [00:00<00:00, 14.9MB/s]\n"
          ]
        }
      ],
      "source": [
        "!gdown 1iA0WmVfW88HyJvTBSQDI5vesf-pgKabq"
      ]
    },
    {
      "cell_type": "code",
      "execution_count": null,
      "metadata": {
        "id": "7jK5lw_GgIZF"
      },
      "outputs": [],
      "source": [
        "import pandas as pd\n",
        "import numpy as np\n",
        "\n",
        "df = pd.read_csv('/content/advertising.csv')\n",
        "\n",
        "data = df.to_numpy"
      ]
    },
    {
      "cell_type": "code",
      "execution_count": null,
      "metadata": {
        "colab": {
          "base_uri": "https://localhost:8080/"
        },
        "id": "V2Sq8w5mgTeE",
        "outputId": "78b29b85-47cf-44e7-8aa9-76fe2ee8ffec"
      },
      "outputs": [
        {
          "name": "stdout",
          "output_type": "stream",
          "text": [
            "27.0\n",
            "175\n"
          ]
        }
      ],
      "source": [
        "# Câu 15: Lấy giá trị lớn nhất và chỉ mục tương ứng của nó trên cột Sales:\n",
        "\n",
        "sales_column = df['Sales']\n",
        "max_value = sales_column.max()\n",
        "print(max_value)\n",
        "max_value = sales_column.argmax()\n",
        "print(max_value)"
      ]
    },
    {
      "cell_type": "code",
      "execution_count": null,
      "metadata": {
        "colab": {
          "base_uri": "https://localhost:8080/"
        },
        "id": "FFM9hVrJgWGL",
        "outputId": "3a328bb1-dbe6-4bdc-cc75-28dced89c398"
      },
      "outputs": [
        {
          "name": "stdout",
          "output_type": "stream",
          "text": [
            "147.0425\n"
          ]
        }
      ],
      "source": [
        "# Câu 16: Giá trị trung bình của cột TV là:\n",
        "\n",
        "tv_column = df['TV']\n",
        "tv_column_mean = tv_column.mean()\n",
        "print(tv_column_mean)"
      ]
    },
    {
      "cell_type": "code",
      "execution_count": null,
      "metadata": {
        "colab": {
          "base_uri": "https://localhost:8080/"
        },
        "id": "G0LqcbJEjAb0",
        "outputId": "99143c39-982e-46c1-db3d-a54a2b15acf1"
      },
      "outputs": [
        {
          "name": "stdout",
          "output_type": "stream",
          "text": [
            "40\n"
          ]
        }
      ],
      "source": [
        "# Câu 17: Số lượng bản ghi có giá trị tại cột Sales lớn hơn hoặc bằng 20 là:\n",
        "\n",
        "sales_count = (sales_column >= 20).sum()\n",
        "print(sales_count)"
      ]
    },
    {
      "cell_type": "code",
      "execution_count": null,
      "metadata": {
        "colab": {
          "base_uri": "https://localhost:8080/"
        },
        "id": "9rZPxGIflaix",
        "outputId": "c11dcb22-29c3-405f-dbb3-3e3f86b93755"
      },
      "outputs": [
        {
          "name": "stdout",
          "output_type": "stream",
          "text": [
            "26.22293577981651\n"
          ]
        }
      ],
      "source": [
        "# Câu 18: Tính giá trị trung bình của cột Radio thoả mãn điều kiện giá trị tương ứng\n",
        "# trên cột Sales lớn hơn hoặc bằng 15:\n",
        "\n",
        "radio_column = df['Radio']\n",
        "filtered_df = df[df['Sales'] >= 15]\n",
        "mean_radio = filtered_df['Radio'].mean()\n",
        "print(mean_radio)"
      ]
    },
    {
      "cell_type": "code",
      "execution_count": null,
      "metadata": {
        "colab": {
          "base_uri": "https://localhost:8080/"
        },
        "id": "2e6-mkuEmYwF",
        "outputId": "0ee058b5-51f5-4968-eb2c-91c08044a90d"
      },
      "outputs": [
        {
          "name": "stdout",
          "output_type": "stream",
          "text": [
            "1405.1\n"
          ]
        }
      ],
      "source": [
        "# Câu 19: Tính tổng các hàng của cột Sales với điều kiện giá trị Newspaper lớn hơn\n",
        "# giá trị trung bình của cột Newspaper:\n",
        "\n",
        "filtered_df_news = df[df['Newspaper'] >= df['Newspaper'].mean()]\n",
        "sales_sum = filtered_df_news['Sales'].sum()\n",
        "print(sales_sum)"
      ]
    },
    {
      "cell_type": "code",
      "execution_count": null,
      "metadata": {
        "colab": {
          "base_uri": "https://localhost:8080/"
        },
        "id": "ppqnuZOZ0fP_",
        "outputId": "37c1071a-c457-40bf-dc93-cf24d3de2d14"
      },
      "outputs": [
        {
          "name": "stdout",
          "output_type": "stream",
          "text": [
            "['Bad', 'Bad', 'Good']\n"
          ]
        }
      ],
      "source": [
        "# Câu 20: Gọi giá trị trung bình của cột Sales là A. Tạo ra mảng mới scores chứa các\n",
        "# giá trị Good, Average và Bad sao cho: nếu giá trị hiện tại > A => giá trị trong mảng mới\n",
        "# là Good, < A thì sẽ là Bad và = A sẽ là Average. Sau đó in ra kết quả scores[7:10]\n",
        "\n",
        "A = df['Sales'].mean()\n",
        "scores = []\n",
        "\n",
        "for value in df['Sales']:\n",
        "    if value > A:\n",
        "        scores.append('Good')\n",
        "    elif value < A:\n",
        "        scores.append('Bad')\n",
        "    else:\n",
        "        scores.append('Average')\n",
        "\n",
        "print(scores[7:10])\n"
      ]
    },
    {
      "cell_type": "code",
      "execution_count": null,
      "metadata": {
        "colab": {
          "base_uri": "https://localhost:8080/"
        },
        "id": "yonAm_u22Dx5",
        "outputId": "26c37f7c-1db6-4614-ee41-23bb1d8ed082"
      },
      "outputs": [
        {
          "name": "stdout",
          "output_type": "stream",
          "text": [
            "['Bad', 'Bad', 'Good']\n"
          ]
        }
      ],
      "source": [
        "# Câu 21: Gọi giá trị trên cột Sales gần nhất với giá trị trung bình cũng chính cột\n",
        "# Sales là A. Tạo ra mảng mới scores chứa các giá trị Good, Average và Bad sao cho: nếu\n",
        "# giá trị hiện tại > A => giá trị trong mảng mới là Good, < A thì sẽ là Bad và = A sẽ là\n",
        "# Average. Sau đó in ra kết quả scores[7:10]\n",
        "\n",
        "closet_value = df['Sales'].iloc[(df['Sales'] - A).abs().argmin()]\n",
        "scores = []\n",
        "\n",
        "for value in df['Sales']:\n",
        "    if value > closet_value:\n",
        "        scores.append('Good')\n",
        "    elif value < closet_value:\n",
        "        scores.append('Bad')\n",
        "    else:\n",
        "        scores.append('Average')\n",
        "print(scores[7:10])"
      ]
    }
  ],
  "metadata": {
    "colab": {
      "provenance": []
    },
    "kaggle": {
      "accelerator": "nvidiaTeslaT4",
      "dataSources": [
        {
          "datasetId": 5336384,
          "sourceId": 8866628,
          "sourceType": "datasetVersion"
        }
      ],
      "dockerImageVersionId": 30733,
      "isGpuEnabled": true,
      "isInternetEnabled": true,
      "language": "python",
      "sourceType": "notebook"
    },
    "kernelspec": {
      "display_name": "Python 3",
      "language": "python",
      "name": "python3"
    },
    "language_info": {
      "codemirror_mode": {
        "name": "ipython",
        "version": 3
      },
      "file_extension": ".py",
      "mimetype": "text/x-python",
      "name": "python",
      "nbconvert_exporter": "python",
      "pygments_lexer": "ipython3",
      "version": "3.10.13"
    }
  },
  "nbformat": 4,
  "nbformat_minor": 0
}
