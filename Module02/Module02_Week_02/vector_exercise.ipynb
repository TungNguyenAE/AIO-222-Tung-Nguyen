{
  "cells": [
    {
      "cell_type": "markdown",
      "metadata": {
        "id": "NJ6P5A8Nom8g"
      },
      "source": [
        "# 1. Các phép toán trên vector và ma trận.\n",
        "\n",
        "### 1.1 Length of a vector\n",
        "\n"
      ]
    },
    {
      "cell_type": "code",
      "execution_count": 1,
      "metadata": {
        "id": "ge_sQuE3nFvA"
      },
      "outputs": [],
      "source": [
        "import numpy as np\n",
        "\n",
        "def compute_vector_length(vector):\n",
        "    # *********** Your code here ***********\n",
        "    v = np.array(vector)\n",
        "    len_of_vector = np.linalg.norm(v)\n",
        "\n",
        "    return len_of_vector"
      ]
    },
    {
      "cell_type": "code",
      "execution_count": 2,
      "metadata": {
        "colab": {
          "base_uri": "https://localhost:8080/"
        },
        "id": "cHu5c7pJxtLF",
        "outputId": "dc77e65d-2875-4f48-b237-6614293128c4"
      },
      "outputs": [
        {
          "data": {
            "text/plain": [
              "3.7416573867739413"
            ]
          },
          "execution_count": 2,
          "metadata": {},
          "output_type": "execute_result"
        }
      ],
      "source": [
        "v = [1, 2, 3]\n",
        "compute_vector_length(v)"
      ]
    },
    {
      "cell_type": "markdown",
      "metadata": {
        "id": "jzbHO6UPrr7y"
      },
      "source": [
        "### 1.2 Dot product"
      ]
    },
    {
      "cell_type": "code",
      "execution_count": 3,
      "metadata": {
        "id": "zGib-XufrrN3"
      },
      "outputs": [],
      "source": [
        "def compute_dot_product(vector1, vector2):\n",
        "    # *********** Your code here ***********\n",
        "    v1 = np.array(vector1)\n",
        "    v2 = np.array(vector2)\n",
        "    result = np.dot(v1, v2)\n",
        "\n",
        "    return result"
      ]
    },
    {
      "cell_type": "code",
      "execution_count": 4,
      "metadata": {
        "colab": {
          "base_uri": "https://localhost:8080/"
        },
        "id": "L1sChycyxxl9",
        "outputId": "7a1436a3-dfd0-424f-d29f-823823785255"
      },
      "outputs": [
        {
          "data": {
            "text/plain": [
              "32"
            ]
          },
          "execution_count": 4,
          "metadata": {},
          "output_type": "execute_result"
        }
      ],
      "source": [
        "v1 = [1, 2, 3]\n",
        "v2 = [4, 5, 6]\n",
        "compute_dot_product(v1, v2)"
      ]
    },
    {
      "cell_type": "markdown",
      "metadata": {
        "id": "R399bwP4vN3T"
      },
      "source": [
        "### 1.3 Multiplying a vector by a matrix"
      ]
    },
    {
      "cell_type": "code",
      "execution_count": 5,
      "metadata": {
        "id": "ryol2m5OvQrf"
      },
      "outputs": [],
      "source": [
        "def matrix_multi_vector(matrix, vector):\n",
        "    # *********** Your code here ***********\n",
        "    A = np.array(matrix)\n",
        "    v = np.array(vector)\n",
        "    result = np.dot(A, v)\n",
        "\n",
        "    return result"
      ]
    },
    {
      "cell_type": "code",
      "execution_count": 6,
      "metadata": {
        "colab": {
          "base_uri": "https://localhost:8080/"
        },
        "id": "rYl5ZUJcx3TO",
        "outputId": "051097f1-56c8-4743-85f4-d7d231cc06b2"
      },
      "outputs": [
        {
          "data": {
            "text/plain": [
              "array([23, 53, 83])"
            ]
          },
          "execution_count": 6,
          "metadata": {},
          "output_type": "execute_result"
        }
      ],
      "source": [
        "A = [[1, 2], [3, 4], [5, 6]]\n",
        "v = [7, 8]\n",
        "matrix_multi_vector(A, v)"
      ]
    },
    {
      "cell_type": "markdown",
      "metadata": {
        "id": "fFpbEuCewhLM"
      },
      "source": [
        "### 1.4 Multiplying a matrix by a matrix"
      ]
    },
    {
      "cell_type": "code",
      "execution_count": 7,
      "metadata": {
        "id": "fXGzJ0uEw9Jg"
      },
      "outputs": [],
      "source": [
        "import numpy as np\n",
        "\n",
        "def matrix_multi_matrix(matrix1, matrix2):\n",
        "  A = np.array(matrix1)\n",
        "  B = np.array(matrix2)\n",
        "  result = np.matmul(A, B)\n",
        "\n",
        "  return result"
      ]
    },
    {
      "cell_type": "code",
      "execution_count": 8,
      "metadata": {
        "colab": {
          "base_uri": "https://localhost:8080/"
        },
        "id": "QcoyBDk9yLCd",
        "outputId": "590b54eb-1701-48a7-db6e-9ba8f12cb66e"
      },
      "outputs": [
        {
          "data": {
            "text/plain": [
              "array([[ 27,  30,  33],\n",
              "       [ 61,  68,  75],\n",
              "       [ 95, 106, 117]])"
            ]
          },
          "execution_count": 8,
          "metadata": {},
          "output_type": "execute_result"
        }
      ],
      "source": [
        "A = [[1, 2], [3, 4], [5, 6]]\n",
        "B = [[7, 8, 9], [10, 11, 12]]\n",
        "matrix_multi_matrix(A, B)"
      ]
    },
    {
      "cell_type": "markdown",
      "metadata": {
        "id": "CC5HF8ZlyOkD"
      },
      "source": [
        "### 1.5 Matrix inverse"
      ]
    },
    {
      "cell_type": "code",
      "execution_count": 9,
      "metadata": {
        "id": "2u7gT2UeyhUw"
      },
      "outputs": [],
      "source": [
        "import numpy as np\n",
        "\n",
        "def inverse_matrix(matrix):\n",
        "  A = np.array(matrix)\n",
        "  det = np.linalg.det(A)\n",
        "  if det == 0:\n",
        "    return None\n",
        "  else:\n",
        "    result = np.linalg.inv(A)\n",
        "  return result"
      ]
    },
    {
      "cell_type": "code",
      "execution_count": 10,
      "metadata": {
        "colab": {
          "base_uri": "https://localhost:8080/"
        },
        "id": "nTJDJ4M3y2Oz",
        "outputId": "b08bfa44-3766-4245-851e-0c57fbeb04b3"
      },
      "outputs": [
        {
          "data": {
            "text/plain": [
              "array([[0.1 , 0.15],\n",
              "       [0.2 , 0.05]])"
            ]
          },
          "execution_count": 10,
          "metadata": {},
          "output_type": "execute_result"
        }
      ],
      "source": [
        "A = [[-2, 6], [8, -4]]\n",
        "inverse_matrix(A)"
      ]
    },
    {
      "cell_type": "markdown",
      "metadata": {
        "id": "JUQwdXnszSFb"
      },
      "source": [
        "## 2. Eigenvector và eigenvalues:"
      ]
    },
    {
      "cell_type": "code",
      "execution_count": 11,
      "metadata": {
        "id": "rOz7SFpsy5Sk"
      },
      "outputs": [],
      "source": [
        "import numpy as np\n",
        "\n",
        "def compute_eigenvalues_eigenvectors(matrix):\n",
        "  A = np.array(matrix)\n",
        "  eigenvalues = np.linalg.eigvals(A)\n",
        "  eigenvectors = np.linalg.eig(A)\n",
        "\n",
        "  return eigenvalues, eigenvectors"
      ]
    },
    {
      "cell_type": "code",
      "execution_count": 12,
      "metadata": {
        "colab": {
          "base_uri": "https://localhost:8080/"
        },
        "id": "P4vj_eB21Bpi",
        "outputId": "5ebf3a72-e201-4863-85eb-1e0e40e22e08"
      },
      "outputs": [
        {
          "data": {
            "text/plain": [
              "(array([1. , 0.7]),\n",
              " EigResult(eigenvalues=array([1. , 0.7]), eigenvectors=array([[ 0.89442719, -0.70710678],\n",
              "        [ 0.4472136 ,  0.70710678]])))"
            ]
          },
          "execution_count": 12,
          "metadata": {},
          "output_type": "execute_result"
        }
      ],
      "source": [
        "A = [[0.9, 0.2], [0.1, 0.8]]\n",
        "compute_eigenvalues_eigenvectors(A)"
      ]
    },
    {
      "cell_type": "markdown",
      "metadata": {
        "id": "jGkZUQ461mkd"
      },
      "source": [
        "## 3. Cosine Similarity:"
      ]
    },
    {
      "cell_type": "code",
      "execution_count": 13,
      "metadata": {
        "id": "5mFy_mtx1DRj"
      },
      "outputs": [],
      "source": [
        "def compute_cosine(v1, v2):\n",
        "    # *********** Your code here ***********\n",
        "    x = np.array(v1)\n",
        "    y = np.array(v2)\n",
        "    cos_sim = np.dot(x, y) / np.dot(np.linalg.norm(x), np.linalg.norm(y))\n",
        "\n",
        "    return cos_sim"
      ]
    },
    {
      "cell_type": "code",
      "execution_count": 14,
      "metadata": {
        "colab": {
          "base_uri": "https://localhost:8080/"
        },
        "id": "ZVZmMxo52NnW",
        "outputId": "2f009b1c-60e5-4ca9-8257-5230b77fd888"
      },
      "outputs": [
        {
          "data": {
            "text/plain": [
              "0.5163977794943222"
            ]
          },
          "execution_count": 14,
          "metadata": {},
          "output_type": "execute_result"
        }
      ],
      "source": [
        "x = [1, 2, 3, 4]\n",
        "y = [1, 0, 1, 0]\n",
        "compute_cosine(x, y)"
      ]
    }
  ],
  "metadata": {
    "colab": {
      "provenance": []
    },
    "kernelspec": {
      "display_name": "Python 3",
      "name": "python3"
    },
    "language_info": {
      "codemirror_mode": {
        "name": "ipython",
        "version": 3
      },
      "file_extension": ".py",
      "mimetype": "text/x-python",
      "name": "python",
      "nbconvert_exporter": "python",
      "pygments_lexer": "ipython3",
      "version": "3.11.7"
    }
  },
  "nbformat": 4,
  "nbformat_minor": 0
}
