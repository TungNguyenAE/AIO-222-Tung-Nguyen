{
  "cells": [
    {
      "cell_type": "markdown",
      "metadata": {
        "id": "-x0TvLFGxFRB"
      },
      "source": [
        "## CREATE DATA"
      ]
    },
    {
      "cell_type": "code",
      "execution_count": null,
      "metadata": {
        "id": "5KiAjgd_xPnR"
      },
      "outputs": [],
      "source": [
        "import numpy as np"
      ]
    },
    {
      "cell_type": "code",
      "execution_count": null,
      "metadata": {
        "colab": {
          "base_uri": "https://localhost:8080/"
        },
        "id": "Cn7khOlrwdlL",
        "outputId": "0d11272e-11ef-49c5-c090-1d8513d5973a"
      },
      "outputs": [
        {
          "name": "stdout",
          "output_type": "stream",
          "text": [
            "[['Sunny' 'Hot' 'High' 'Weak' 'no']\n",
            " ['Sunny' 'Hot' 'High' 'Strong' 'no']\n",
            " ['Overcast' 'Hot' 'High' 'Weak' 'yes']\n",
            " ['Rain' 'Mild' 'High' 'Weak' 'yes']\n",
            " ['Rain' 'Cool' 'Normal' 'Weak' 'yes']\n",
            " ['Rain' 'Cool' 'Normal' 'Strong' 'no']\n",
            " ['Overcast' 'Cool' 'Normal' 'Strong' 'yes']\n",
            " ['Overcast' 'Mild' 'High' 'Weak' 'no']\n",
            " ['Sunny' 'Cool' 'Normal' 'Weak' 'yes']\n",
            " ['Rain' 'Mild' 'Normal' 'Weak' 'yes']]\n"
          ]
        }
      ],
      "source": [
        "def create_train_data():\n",
        "\n",
        "  data=[\n",
        "      ['Sunny','Hot', 'High', 'Weak', 'no'],\n",
        "        ['Sunny','Hot', 'High', 'Strong', 'no'],\n",
        "        ['Overcast','Hot', 'High', 'Weak', 'yes'],\n",
        "        ['Rain','Mild', 'High', 'Weak', 'yes'],\n",
        "        ['Rain','Cool', 'Normal', 'Weak', 'yes'],\n",
        "        ['Rain','Cool', 'Normal', 'Strong', 'no'],\n",
        "        ['Overcast','Cool', 'Normal', 'Strong', 'yes'],\n",
        "        ['Overcast','Mild', 'High', 'Weak', 'no'],\n",
        "        ['Sunny','Cool', 'Normal', 'Weak', 'yes'],\n",
        "        ['Rain','Mild', 'Normal', 'Weak', 'yes']\n",
        "        ]\n",
        "  return np.array(data)\n",
        "\n",
        "train_data = create_train_data()\n",
        "print(train_data)"
      ]
    },
    {
      "cell_type": "markdown",
      "metadata": {
        "id": "MKJ4foi0xgt2"
      },
      "source": [
        "## Câu 14"
      ]
    },
    {
      "cell_type": "code",
      "execution_count": 33,
      "metadata": {
        "colab": {
          "base_uri": "https://localhost:8080/"
        },
        "id": "Su2AQZW7xKVD",
        "outputId": "06e30c8a-492e-41f4-85ae-700d11257c9e"
      },
      "outputs": [
        {
          "name": "stdout",
          "output_type": "stream",
          "text": [
            "P(play tennis = No) 0.4\n",
            "P(play tennis = Yes) 0.6\n"
          ]
        }
      ],
      "source": [
        "def compute_prior_probability(train_data):\n",
        "    y_unique = ['no', 'yes']\n",
        "    prior_probability = np.zeros(len(y_unique))\n",
        "\n",
        "    total_instances = len(train_data)\n",
        "    count_no = np.sum(train_data[:, -1] == 'no')\n",
        "    count_yes = np.sum(train_data[:, -1] == 'yes')\n",
        "\n",
        "    prior_probability[0] = count_no / total_instances\n",
        "    prior_probability[1] = count_yes / total_instances\n",
        "\n",
        "    return prior_probability\n",
        "\n",
        "train_data = create_train_data()\n",
        "prior_probability = compute_prior_probability(train_data)\n",
        "\n",
        "print(\"P(play tennis = No)\", prior_probability[0])\n",
        "print(\"P(play tennis = Yes)\", prior_probability[1])"
      ]
    },
    {
      "cell_type": "markdown",
      "metadata": {
        "id": "CF2GvIOYyc9B"
      },
      "source": [
        "## Câu 15"
      ]
    },
    {
      "cell_type": "code",
      "execution_count": 34,
      "metadata": {
        "id": "Pm2qlZIGxvNv"
      },
      "outputs": [],
      "source": [
        "import numpy as np\n",
        "\n",
        "def compute_conditional_probability(train_data):\n",
        "    y_unique = ['no', 'yes']\n",
        "    conditional_probability = []\n",
        "    list_x_name = []\n",
        "\n",
        "    for i in range(0, train_data.shape[1] - 1):\n",
        "        x_unique = np.unique(train_data[:, i])\n",
        "        list_x_name.append(x_unique)\n",
        "        x_conditional_probability = np.zeros((len(x_unique), len(y_unique)))\n",
        "\n",
        "        for j in range(len(x_unique)):\n",
        "            for k in range(len(y_unique)):\n",
        "                x_and_y_count = np.sum((train_data[:, i] == x_unique[j]) & (train_data[:, -1] == y_unique[k]))\n",
        "                y_count = np.sum(train_data[:, -1] == y_unique[k])\n",
        "                if y_count > 0:\n",
        "                    x_conditional_probability[j, k] = x_and_y_count / y_count\n",
        "\n",
        "        conditional_probability.append(x_conditional_probability)\n",
        "\n",
        "    return conditional_probability, list_x_name\n",
        "\n",
        "train_data = create_train_data()\n",
        "conditional_probability, list_x_name = compute_conditional_probability(train_data)"
      ]
    },
    {
      "cell_type": "code",
      "execution_count": 35,
      "metadata": {
        "colab": {
          "base_uri": "https://localhost:8080/"
        },
        "id": "FHmNzhNAyg8_",
        "outputId": "59b44882-cd79-4bdb-9719-7d9f5400ac46"
      },
      "outputs": [
        {
          "name": "stdout",
          "output_type": "stream",
          "text": [
            "x1 =  ['Overcast' 'Rain' 'Sunny']\n",
            "x2 =  ['Cool' 'Hot' 'Mild']\n",
            "x3 =  ['High' 'Normal']\n",
            "x4 =  ['Strong' 'Weak']\n"
          ]
        }
      ],
      "source": [
        "train_data = create_train_data()\n",
        "_, list_x_name  = compute_conditional_probability(train_data)\n",
        "print(\"x1 = \",list_x_name[0])\n",
        "print(\"x2 = \",list_x_name[1])\n",
        "print(\"x3 = \",list_x_name[2])\n",
        "print(\"x4 = \",list_x_name[3])"
      ]
    },
    {
      "cell_type": "markdown",
      "metadata": {
        "id": "_9qvx8DEzkox"
      },
      "source": [
        "## Câu 16"
      ]
    },
    {
      "cell_type": "code",
      "execution_count": 36,
      "metadata": {
        "id": "MS0LfqwqysQC"
      },
      "outputs": [],
      "source": [
        "def get_index_from_value(feature_name, list_features):\n",
        "    return np.where(list_features == feature_name)[0][0]"
      ]
    },
    {
      "cell_type": "code",
      "execution_count": 37,
      "metadata": {
        "colab": {
          "base_uri": "https://localhost:8080/"
        },
        "id": "Y1PBylpDzvh7",
        "outputId": "333cde16-18ee-4455-9b46-ab7e67a7dc10"
      },
      "outputs": [
        {
          "name": "stdout",
          "output_type": "stream",
          "text": [
            "0 1 2\n"
          ]
        }
      ],
      "source": [
        "train_data = create_train_data()\n",
        "_, list_x_name = compute_conditional_probability(train_data)\n",
        "outlook = list_x_name[0]\n",
        "\n",
        "i1 = get_index_from_value(\"Overcast\", outlook)\n",
        "i2 = get_index_from_value(\"Rain\", outlook)\n",
        "i3 = get_index_from_value(\"Sunny\", outlook)\n",
        "\n",
        "print(i1, i2, i3)"
      ]
    },
    {
      "cell_type": "markdown",
      "metadata": {
        "id": "2B8YWyND57ml"
      },
      "source": [
        "## Câu 17"
      ]
    },
    {
      "cell_type": "code",
      "execution_count": 38,
      "metadata": {
        "colab": {
          "base_uri": "https://localhost:8080/"
        },
        "id": "MI8QOXllzx7Q",
        "outputId": "ade29dce-4320-4965-deea-6f039354f2d2"
      },
      "outputs": [
        {
          "name": "stdout",
          "output_type": "stream",
          "text": [
            "P('Outlook'='Sunny'|'Play Tennis'='Yes') =  0.17\n"
          ]
        }
      ],
      "source": [
        "def get_index_from_value(feature_name, list_features):\n",
        "    return np.where(list_features == feature_name)[0][0]\n",
        "\n",
        "train_data = create_train_data()\n",
        "conditional_probability, list_x_name = compute_conditional_probability(train_data)\n",
        "outlook = list_x_name[0]\n",
        "\n",
        "x1 = get_index_from_value(\"Sunny\", outlook)\n",
        "print(\"P('Outlook'='Sunny'|'Play Tennis'='Yes') = \", np.round(conditional_probability[0][x1, 1], 2))"
      ]
    },
    {
      "cell_type": "markdown",
      "metadata": {
        "id": "Xx2cel1J6KfZ"
      },
      "source": [
        "## Câu 18"
      ]
    },
    {
      "cell_type": "code",
      "execution_count": 39,
      "metadata": {
        "colab": {
          "base_uri": "https://localhost:8080/"
        },
        "id": "NuugDPaF08IU",
        "outputId": "fe27e15c-4ab1-441d-967e-24a82a687717"
      },
      "outputs": [
        {
          "name": "stdout",
          "output_type": "stream",
          "text": [
            "P('Outlook'='Sunny'|'Play Tennis'='No') =  0.5\n"
          ]
        }
      ],
      "source": [
        "def get_index_from_value(feature_name, list_features):\n",
        "    return np.where(list_features == feature_name)[0][0]\n",
        "\n",
        "train_data = create_train_data()\n",
        "conditional_probability, list_x_name = compute_conditional_probability(train_data)\n",
        "outlook = list_x_name[0]\n",
        "\n",
        "x1 = get_index_from_value(\"Sunny\", outlook)\n",
        "print(\"P('Outlook'='Sunny'|'Play Tennis'='No') = \", np.round(conditional_probability[0][x1, 0], 2))"
      ]
    },
    {
      "cell_type": "markdown",
      "metadata": {
        "id": "hCaokEGg6MhP"
      },
      "source": [
        "## Câu 19"
      ]
    },
    {
      "cell_type": "code",
      "execution_count": 40,
      "metadata": {
        "colab": {
          "base_uri": "https://localhost:8080/"
        },
        "id": "uHEbHl6S4cNi",
        "outputId": "826db39f-bc2f-4c6c-d12f-5779a22179ac"
      },
      "outputs": [
        {
          "name": "stdout",
          "output_type": "stream",
          "text": [
            "Ad should not go!\n"
          ]
        }
      ],
      "source": [
        "def get_index_from_value(feature_name, list_features):\n",
        "    return np.where(list_features == feature_name)[0][0]\n",
        "\n",
        "def train_naive_bayes(train_data):\n",
        "    prior_probability = compute_prior_probability(train_data)\n",
        "    conditional_probability, list_x_name = compute_conditional_probability(train_data)\n",
        "    return prior_probability, conditional_probability, list_x_name\n",
        "\n",
        "def prediction_play_tennis(X, list_x_name, prior_probability, conditional_probability):\n",
        "    prob_yes = prior_probability[1]\n",
        "    prob_no = prior_probability[0]\n",
        "\n",
        "    for i in range(len(X)):\n",
        "        x_index = get_index_from_value(X[i], list_x_name[i])\n",
        "        prob_yes *= conditional_probability[i][x_index, 1]\n",
        "        prob_no *= conditional_probability[i][x_index, 0]\n",
        "\n",
        "    return prob_yes > prob_no\n",
        "\n",
        "X = ['Sunny', 'Cool', 'High', 'Strong']\n",
        "data = create_train_data()\n",
        "prior_probability, conditional_probability, list_x_name = train_naive_bayes(data)\n",
        "pred = prediction_play_tennis(X, list_x_name, prior_probability, conditional_probability)\n",
        "\n",
        "if(pred):\n",
        "    print(\"Ad should go!\")\n",
        "else:\n",
        "    print(\"Ad should not go!\")"
      ]
    },
    {
      "cell_type": "code",
      "execution_count": null,
      "metadata": {
        "id": "3wrZDb9_5ho5"
      },
      "outputs": [],
      "source": []
    }
  ],
  "metadata": {
    "colab": {
      "provenance": []
    },
    "kernelspec": {
      "display_name": "Python 3",
      "name": "python3"
    },
    "language_info": {
      "name": "python"
    }
  },
  "nbformat": 4,
  "nbformat_minor": 0
}
