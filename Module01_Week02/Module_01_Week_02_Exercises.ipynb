{
  "cells": [
    {
      "cell_type": "code",
      "execution_count": 49,
      "metadata": {
        "colab": {
          "base_uri": "https://localhost:8080/"
        },
        "id": "ObJnRaisCSsu",
        "outputId": "4a430b93-4fa2-425e-d550-cc60fad55420"
      },
      "outputs": [
        {
          "name": "stdout",
          "output_type": "stream",
          "text": [
            "[9, 8, 1]\n"
          ]
        }
      ],
      "source": [
        "def function_helper (x, data ):\n",
        "  for i in data :\n",
        "  # Your code here\n",
        "  # Neu x == i thi return 0\n",
        "    if x == i:\n",
        "      return 0\n",
        "  return 1\n",
        "\n",
        "def my_function ( data ):\n",
        "  res = []\n",
        "  for i in data :\n",
        "    if function_helper (i, res):\n",
        "      res . append (i)\n",
        "\n",
        "  return res\n",
        "\n",
        "lst = [10 , 10, 9, 7, 7]\n",
        "assert my_function (lst) ==[10 , 9, 7]\n",
        "\n",
        "lst = [9, 9, 8, 1, 1]\n",
        "print ( my_function (lst))"
      ]
    },
    {
      "cell_type": "code",
      "execution_count": 47,
      "metadata": {
        "colab": {
          "base_uri": "https://localhost:8080/"
        },
        "id": "v8TSn_2sAjQT",
        "outputId": "2fbee069-fec5-4e7b-9fd9-3ccbbcaba2ef"
      },
      "outputs": [
        {
          "name": "stdout",
          "output_type": "stream",
          "text": [
            "['T', 'T', 'T', 'N']\n"
          ]
        }
      ],
      "source": [
        "def function_helper (x):\n",
        "  # Your code here\n",
        "  # Neu x >0 tra ve ’T ’, nguoc lai tra ve ’N’\n",
        "  if x > 0:\n",
        "    return 'T'\n",
        "  else:\n",
        "    return 'N'\n",
        "def my_function ( data ):\n",
        "  res = [ function_helper (x) for x in data ]\n",
        "  return res\n",
        "\n",
        "data = [10 , 0, -10, -1]\n",
        "assert my_function ( data ) == ['T', 'N', 'N', 'N']\n",
        "\n",
        "data = [2, 3, 5, -1]\n",
        "print ( my_function ( data ))\n"
      ]
    },
    {
      "cell_type": "code",
      "execution_count": 44,
      "metadata": {
        "colab": {
          "base_uri": "https://localhost:8080/"
        },
        "id": "ZJxYLH0__POo",
        "outputId": "d8750c80-3c43-4f63-eeab-066c8e8fb5c7"
      },
      "outputs": [
        {
          "name": "stdout",
          "output_type": "stream",
          "text": [
            "tocirpa\n"
          ]
        }
      ],
      "source": [
        "def my_function (x):\n",
        "  # your code here\n",
        "  y = list(x)\n",
        "  y.reverse()\n",
        "  my_string = ''.join(str(i) for i in y)\n",
        "  return my_string\n",
        "\n",
        "x = 'I can do it'\n",
        "assert my_function (x)==\"ti od nac I\"\n",
        "\n",
        "x = 'apricot'\n",
        "print ( my_function (x))"
      ]
    },
    {
      "cell_type": "code",
      "execution_count": 32,
      "metadata": {
        "colab": {
          "base_uri": "https://localhost:8080/"
        },
        "id": "EvhM641l-31o",
        "outputId": "7dd0fcfd-c249-439f-d23a-371386a45078"
      },
      "outputs": [
        {
          "name": "stdout",
          "output_type": "stream",
          "text": [
            "24\n"
          ]
        }
      ],
      "source": [
        "def my_function (y):\n",
        "  var = 1\n",
        "  while (y > 1):\n",
        "    var *= y\n",
        "    y -= 1\n",
        "  return var\n",
        "\n",
        "assert my_function (8) == 40320\n",
        "print ( my_function (4))"
      ]
    },
    {
      "cell_type": "code",
      "execution_count": 29,
      "metadata": {
        "colab": {
          "base_uri": "https://localhost:8080/"
        },
        "id": "dtUUvkbK-jPw",
        "outputId": "d4f6637e-ed06-408f-d45a-b5c8e0593bcb"
      },
      "outputs": [
        {
          "name": "stdout",
          "output_type": "stream",
          "text": [
            "[3, 6]\n"
          ]
        }
      ],
      "source": [
        "def my_function ( data ):\n",
        "  var = []\n",
        "  for i in data :\n",
        "  # Your code here\n",
        "    if  i%3 == 0:\n",
        "      var.append(i)\n",
        "  return var\n",
        "\n",
        "assert my_function ([3 , 9, 4, 5]) == [3, 9]\n",
        "print ( my_function ([1 , 2, 3, 5, 6]))"
      ]
    },
    {
      "cell_type": "code",
      "execution_count": 27,
      "metadata": {
        "colab": {
          "base_uri": "https://localhost:8080/"
        },
        "id": "QhCrXlGM-EbD",
        "outputId": "f450601d-c106-4048-e7e1-f5504ccb3496"
      },
      "outputs": [
        {
          "name": "stdout",
          "output_type": "stream",
          "text": [
            "1.0\n"
          ]
        }
      ],
      "source": [
        "def my_function ( list_nums = [0, 1, 2]):\n",
        "  var = 0\n",
        "  for i in list_nums :\n",
        "    var += i\n",
        "  mean = var / len(list_nums)\n",
        "  return mean\n",
        "  # Your code here : Tra ve gia tri trung binh cua list bang cach chia var cho so luong phan tu trong list_mums\n",
        "\n",
        "assert my_function ([4 , 6, 8]) == 6\n",
        "print ( my_function ())"
      ]
    },
    {
      "cell_type": "code",
      "execution_count": 26,
      "metadata": {
        "colab": {
          "base_uri": "https://localhost:8080/"
        },
        "id": "Ns9L8jNX7zUo",
        "outputId": "8515813f-8bab-42ba-87d0-f29ddf1f3bb3"
      },
      "outputs": [
        {
          "name": "stdout",
          "output_type": "stream",
          "text": [
            "True\n"
          ]
        }
      ],
      "source": [
        "from typing import AnyStr\n",
        "def My_function ( integers , number = 1):\n",
        "  result = []\n",
        "  any = False\n",
        "  for i in integers:\n",
        "    if i == number:\n",
        "      result.append(True)\n",
        "      any = True\n",
        "    else:\n",
        "      result.append(False)\n",
        "  return any\n",
        "\n",
        "#vi du: integers = [1, 2, 3], number = 2, ban se tao ra list [False ,True , False ] )\n",
        "\n",
        "my_list = [1, 3, 9, 4]\n",
        "assert My_function (my_list, -1) == False\n",
        "\n",
        "my_list = [1, 2, 3, 4]\n",
        "print ( My_function ( my_list , 2))"
      ]
    },
    {
      "cell_type": "code",
      "execution_count": 23,
      "metadata": {
        "colab": {
          "base_uri": "https://localhost:8080/"
        },
        "id": "QrBm9VfH7iGQ",
        "outputId": "aaa0187e-4c11-4c8f-c35d-238b30c98160"
      },
      "outputs": [
        {
          "name": "stdout",
          "output_type": "stream",
          "text": [
            "9\n"
          ]
        }
      ],
      "source": [
        "def my_function (n):\n",
        "  # Your code here\n",
        "  max = 0\n",
        "  for i in n:\n",
        "    if i > max:\n",
        "      max = i\n",
        "  return max\n",
        "\n",
        "my_list = [1001 , 9, 100 , 0]\n",
        "assert my_function ( my_list ) == 1001\n",
        "\n",
        "my_list = [1, 9, 9, 0]\n",
        "print ( my_function ( my_list ))"
      ]
    },
    {
      "cell_type": "code",
      "execution_count": 22,
      "metadata": {
        "colab": {
          "base_uri": "https://localhost:8080/"
        },
        "id": "xUM0Q_On7Ito",
        "outputId": "8a084b70-3f33-4acb-8140-941652c79ad2"
      },
      "outputs": [
        {
          "name": "stdout",
          "output_type": "stream",
          "text": [
            "-1\n"
          ]
        }
      ],
      "source": [
        "def my_function (n):\n",
        "  # Your code here\n",
        "  min = 0\n",
        "  max = 0\n",
        "  for i in n:\n",
        "    if i < min:\n",
        "      min = i\n",
        "  return min\n",
        "\n",
        "my_list = [1, 22, 93, -100]\n",
        "assert my_function ( my_list ) == -100\n",
        "\n",
        "my_list = [1, 2, 3, -1]\n",
        "print ( my_function ( my_list ))"
      ]
    },
    {
      "cell_type": "code",
      "execution_count": 19,
      "metadata": {
        "colab": {
          "base_uri": "https://localhost:8080/"
        },
        "id": "vNSn7Mk35k4n",
        "outputId": "60ceefea-4c0d-41a9-cd61-f53d556037e7"
      },
      "outputs": [
        {
          "name": "stdout",
          "output_type": "stream",
          "text": [
            "[1, 2, 3, 4, 0, 0]\n"
          ]
        }
      ],
      "source": [
        "def my_function (x, y):\n",
        "  # Your code here\n",
        "  #Su dung extend de noi y vao x\n",
        "  x.extend(y)\n",
        "  #Sap xep x theo thu tu tang dan\n",
        "  #x.sort()\n",
        "  return x\n",
        "\n",
        "list_num1 = [\"a\", 2, 5]\n",
        "list_num2 = [1, 1]\n",
        "list_num3 = [0, 0]\n",
        "\n",
        "assert my_function ( list_num1 , my_function ( list_num2 , list_num3 )) == [\"a\", 2, 5, 1, 1, 0, 0]\n",
        "\n",
        "list_num1 = [1, 2]\n",
        "list_num2 = [3, 4]\n",
        "list_num3 = [0, 0]\n",
        "\n",
        "print ( my_function ( list_num1 , my_function ( list_num2 , list_num3 )))"
      ]
    },
    {
      "cell_type": "code",
      "execution_count": 15,
      "metadata": {
        "colab": {
          "base_uri": "https://localhost:8080/"
        },
        "id": "yfYULp793Ti3",
        "outputId": "4e2d2ba9-197f-425b-862b-f65e8b89d827"
      },
      "outputs": [
        {
          "name": "stdout",
          "output_type": "stream",
          "text": [
            "[2, 2, 2, 1, 1]\n"
          ]
        }
      ],
      "source": [
        "from ast import MatchSingleton\n",
        "def my_function (data , max , min):\n",
        "  result = []\n",
        "  for i in data :\n",
        "    # Your code here\n",
        "    if i < min:\n",
        "      result . append (min)\n",
        "    elif i > max :\n",
        "      result . append (max)\n",
        "    else :\n",
        "      result . append (i)\n",
        "  return result\n",
        "\n",
        "my_list = [5, 2, 5, 0, 1]\n",
        "max = 1\n",
        "min = 0\n",
        "assert my_function (max = max , min = min , data = my_list ) == [1, 1, 1, 0, 1]\n",
        "my_list = [10 , 2, 5, 0, 1]\n",
        "max = 2\n",
        "min = 1\n",
        "print ( my_function ( max = max , min = min , data = my_list ))"
      ]
    },
    {
      "cell_type": "code",
      "execution_count": 14,
      "metadata": {
        "colab": {
          "base_uri": "https://localhost:8080/"
        },
        "id": "NsCbXHrI2INA",
        "outputId": "2c9cfe09-6401-496e-cbdf-7203c9f8c0c5"
      },
      "outputs": [
        {
          "name": "stdout",
          "output_type": "stream",
          "text": [
            "True\n"
          ]
        }
      ],
      "source": [
        "def check_the_number (N):\n",
        "  list_of_numbers = []\n",
        "  result = \"\"\n",
        "  for i in range (1, 5):\n",
        "    list_of_numbers.append(i)\n",
        "\n",
        "  if N in list_of_numbers:\n",
        "    results = \"True\"\n",
        "  if N not in list_of_numbers:\n",
        "    results = \"False\"\n",
        "  return results\n",
        "\n",
        "N = 7\n",
        "assert check_the_number (N) == \"False\"\n",
        "N = 2\n",
        "results = check_the_number (N)\n",
        "print (results)\n"
      ]
    },
    {
      "cell_type": "code",
      "execution_count": null,
      "metadata": {
        "id": "qmEYqc459qvH"
      },
      "outputs": [],
      "source": [
        "def max_kernel ( num_list , k):\n",
        "  \"\"\"\n",
        "  Finds the maximum value in a sliding window of size k in a given 1D list of numbers.\n",
        "  Args:\n",
        "    num_list (list): A list of numbers.\n",
        "    k (int):  The size of the sliding window.\n",
        "  Returns:\n",
        "    A list of maximum values in the sliding windows.\n",
        "  \"\"\"\n",
        "\n",
        "  result = []\n",
        "  for i in range(len(num_list)-k+1):\n",
        "      result.append(max(num_list[i:i+k]))\n",
        "  return result\n",
        "\n",
        "# Testcases:\n",
        "if __name__ == \"__main__\":\n",
        "  assert max_kernel ([3 , 4 , 5 , 1 , -44] , 3) == [5, 5, 5]\n",
        "  num_list = [3, 4, 5, 1, -44 , 5 ,10, 12 ,33, 1]\n",
        "  k = 3\n",
        "  print ( max_kernel ( num_list , k))"
      ]
    },
    {
      "cell_type": "code",
      "execution_count": null,
      "metadata": {
        "id": "7jzcG9qSg0k4"
      },
      "outputs": [],
      "source": [
        "def count_characters(text):\n",
        "  \"\"\"\n",
        "  Counts the occurrence of each letter in a given text string.\n",
        "\n",
        "  Args:\n",
        "    text: The text string to analyze.\n",
        "\n",
        "  Returns:\n",
        "    A dictionary containing the counts of each letter.\n",
        "  \"\"\"\n",
        "\n",
        "  character_statistic = {}\n",
        "  for letter in text:\n",
        "    # letter = letter.lower()\n",
        "    if letter not in character_statistic:\n",
        "      character_statistic[letter] = 0\n",
        "    character_statistic[letter] += 1\n",
        "\n",
        "  return character_statistic\n",
        "\n",
        "# Testcases:\n",
        "if __name__ == \"__main__\":\n",
        "  assert count_characters(\"Baby\") == {\"B\": 1, \"a\" : 1, \"b\" : 1, \"y\": 1}\n",
        "  print (count_characters(\"smiles\"))\n",
        "\n",
        "###\n",
        "###  for letter, count in counts.items():\n",
        "###   print(f'Letter \"{letter}\" appears {count} times.')\n",
        "###"
      ]
    },
    {
      "cell_type": "code",
      "execution_count": 2,
      "metadata": {
        "colab": {
          "base_uri": "https://localhost:8080/"
        },
        "id": "ufCrQ2-ijhfo",
        "outputId": "70845da0-9eed-4490-a171-c586e24b5122"
      },
      "outputs": [
        {
          "name": "stdout",
          "output_type": "stream",
          "text": [
            "Downloading...\n",
            "From: https://drive.google.com/uc?id=1IBScGdW2xlNsc9v5zSAya548kNgiOrko\n",
            "To: /content/P1_data.txt\n",
            "\r  0% 0.00/747 [00:00<?, ?B/s]\r100% 747/747 [00:00<00:00, 2.82MB/s]\n",
            "6\n"
          ]
        }
      ],
      "source": [
        "def count_words(file_path):\n",
        "  \"\"\"\n",
        "  Counts the occurrence of each word in a text file downloaded from the given URL.\n",
        "\n",
        "  Args:\n",
        "    url: The URL of the text file.\n",
        "\n",
        "  Returns:\n",
        "    A dictionary containing the counts of each word.\n",
        "  \"\"\"\n",
        "\n",
        "  with open(file_path, \"r\") as f:\n",
        "    text = f.read()\n",
        "\n",
        "  # Count the words in the text\n",
        "  word_counts = {}\n",
        "  for word in text.split():\n",
        "    word = word.lower()\n",
        "    if word not in word_counts:\n",
        "      word_counts[word] = 0\n",
        "    word_counts[word] += 1\n",
        "\n",
        "  return word_counts\n",
        "\n",
        "# Testcases:\n",
        "if __name__ == \"__main__\":\n",
        "  url = \"https://drive.google.com/uc?id=1IBScGdW2xlNsc9v5zSAya548kNgiOrko\"\n",
        "  # Download the text file\n",
        "  !gdown {url}\n",
        "  file_path = \"/content/P1_data.txt\"\n",
        "  result = count_words(file_path)\n",
        "\n",
        "  assert result [\"who\"] == 3\n",
        "  print (result[\"man\"])\n",
        "\n",
        "  # Print the word counts\n",
        "  #for word, count in word_counts.items():\n",
        "  #    print(f'Word {word} appears {count} times.')\n"
      ]
    },
    {
      "cell_type": "code",
      "execution_count": null,
      "metadata": {
        "id": "YZ3wkw0wmZrB"
      },
      "outputs": [],
      "source": [
        "import requests\n",
        "\n",
        "def count_words_from_url(url):\n",
        "  \"\"\"\n",
        "  Counts the occurrence of each word in a text file downloaded from the given URL without using gdown.\n",
        "\n",
        "  Args:\n",
        "    url: The URL of the text file.\n",
        "\n",
        "  Returns:\n",
        "    A dictionary containing the counts of each word.\n",
        "  \"\"\"\n",
        "\n",
        "  # Download the text file\n",
        "  response = requests.get(url)\n",
        "  text = response.text\n",
        "\n",
        "  # Count the words in the text\n",
        "  word_counts = {}\n",
        "  for word in text.split():\n",
        "    word = word.lower()\n",
        "    if word not in word_counts:\n",
        "      word_counts[word] = 0\n",
        "    word_counts[word] += 1\n",
        "\n",
        "  return word_counts\n",
        "\n",
        "# Testcases:\n",
        "if __name__ == \"__main__\":\n",
        "  url = \"https://drive.google.com/uc?id=1IBScGdW2xlNsc9v5zSAya548kNgiOrko\"\n",
        "  word_counts = count_words_from_url(url)\n",
        "\n",
        "  # Print the word counts\n",
        "  print(word_counts)\n",
        "\n",
        "  for word, count in word_counts.items():\n",
        "      print(f'Word \"{word}\" appears {count} times.')\n"
      ]
    },
    {
      "cell_type": "code",
      "execution_count": 4,
      "metadata": {
        "colab": {
          "base_uri": "https://localhost:8080/"
        },
        "id": "qThGxWstxDZM",
        "outputId": "b5770fd5-213d-461b-d6bb-df2cf223db12"
      },
      "outputs": [
        {
          "name": "stdout",
          "output_type": "stream",
          "text": [
            "The Levenshtein distance between \"kitten\" and \"sitting\" is 3.\n",
            "4\n"
          ]
        }
      ],
      "source": [
        "# prompt: function to calculate Levenshtein distance between 2 given strings\n",
        "\n",
        "def levenshtein_distance(string1, string2):\n",
        "  \"\"\"\n",
        "  Calculates the Levenshtein distance between two strings.\n",
        "\n",
        "  Args:\n",
        "    string1: The first string.\n",
        "    string2: The second string.\n",
        "\n",
        "  Returns:\n",
        "    The Levenshtein distance between the two strings.\n",
        "  \"\"\"\n",
        "\n",
        "  if not string1:\n",
        "    return len(string2)\n",
        "  if not string2:\n",
        "    return len(string1)\n",
        "\n",
        "  # Create a matrix to store the distances between prefixes.\n",
        "  distances = [[0 for _ in range(len(string2) + 1)] for _ in range(len(string1) + 1)]\n",
        "\n",
        "  # Initialize the first row and column of the matrix.\n",
        "  for i in range(len(string1) + 1):\n",
        "    distances[i][0] = i\n",
        "  for j in range(len(string2) + 1):\n",
        "    distances[0][j] = j\n",
        "\n",
        "  # Fill in the rest of the matrix.\n",
        "  for i in range(1, len(string1) + 1):\n",
        "    for j in range(1, len(string2) + 1):\n",
        "      if string1[i - 1] == string2[j - 1]:\n",
        "        cost = 0\n",
        "      else:\n",
        "        cost = 1\n",
        "      distances[i][j] = min(\n",
        "          distances[i - 1][j] + 1,  # deletion\n",
        "          distances[i][j - 1] + 1,  # insertion\n",
        "          distances[i - 1][j - 1] + cost  # substitution\n",
        "      )\n",
        "\n",
        "  # The last element of the matrix is the Levenshtein distance.\n",
        "  return distances[len(string1)][len(string2)]\n",
        "\n",
        "# Testcases:\n",
        "if __name__ == \"__main__\":\n",
        "  string1 = \"kitten\"\n",
        "  string2 = \"sitting\"\n",
        "\n",
        "  distance = levenshtein_distance(string1, string2)\n",
        "  print(f'The Levenshtein distance between \"{string1}\" and \"{string2}\" is {distance}.')\n",
        "  assert levenshtein_distance (\"hi\", \"hello\") == 4\n",
        "  print (levenshtein_distance (\" hola \", \"hello\"))\n"
      ]
    }
  ],
  "metadata": {
    "colab": {
      "provenance": []
    },
    "kernelspec": {
      "display_name": "Python 3",
      "name": "python3"
    },
    "language_info": {
      "name": "python"
    }
  },
  "nbformat": 4,
  "nbformat_minor": 0
}
